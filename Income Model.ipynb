{
 "cells": [
  {
   "cell_type": "code",
   "execution_count": 462,
   "metadata": {},
   "outputs": [],
   "source": [
    "import numpy as np\n",
    "import pandas as pd\n",
    "import sklearn as sk\n",
    "\n",
    "from sklearn.model_selection import train_test_split"
   ]
  },
  {
   "cell_type": "code",
   "execution_count": 463,
   "metadata": {},
   "outputs": [],
   "source": [
    "# import the generated csv file for Income Data \n",
    "income = pd.read_csv('Income Data File.csv' , index_col = 0)"
   ]
  },
  {
   "cell_type": "markdown",
   "metadata": {},
   "source": [
    "### Pre-Processing"
   ]
  },
  {
   "cell_type": "code",
   "execution_count": 464,
   "metadata": {},
   "outputs": [],
   "source": [
    "# For cleaning, need to split the columns that have more than two categories, into the # of categories as columns\n",
    "Uni = pd.get_dummies(income['University'], drop_first = True)\n",
    "Pro = pd.get_dummies(income['Program'], drop_first = True)\n",
    "# Schol = pd.get_dummies(income['Scholarship'], drop_first = True)"
   ]
  },
  {
   "cell_type": "code",
   "execution_count": 465,
   "metadata": {},
   "outputs": [],
   "source": [
    "# include the dummy variables into the dataframe\n",
    "income['Uni1'] = Uni[1]\n",
    "income['Uni2'] = Uni[2]\n",
    "income['Uni3'] = Uni[3]\n",
    "income['Uni4'] = Uni[4]\n",
    "income['Uni5'] = Uni[5]\n",
    "\n",
    "income['Pro1'] = Pro[1]\n",
    "income['Pro2'] = Pro[2]\n",
    "income['Pro3'] = Pro[3]\n",
    "income['Pro4'] = Pro[4]"
   ]
  },
  {
   "cell_type": "code",
   "execution_count": 466,
   "metadata": {},
   "outputs": [],
   "source": [
    "# remove the now redundant columns\n",
    "income = income.drop(['University', 'Program', 'Criminal Record', 'Scholarship'], axis = 1)"
   ]
  },
  {
   "cell_type": "code",
   "execution_count": 467,
   "metadata": {},
   "outputs": [],
   "source": [
    "# Create train-test split set\n",
    "\n",
    "X = income.drop(['Income'], axis=1)\n",
    "Y = income['Income']\n",
    "\n",
    "X_train, X_test, y_train, y_test = train_test_split(X, Y, test_size=0.3, random_state=100)"
   ]
  },
  {
   "cell_type": "markdown",
   "metadata": {},
   "source": [
    "## We've used three different training models and are moving forward with KNearest Neighbours based on the results here. \n",
    "\n",
    "# Decision tree classifier "
   ]
  },
  {
   "cell_type": "code",
   "execution_count": 468,
   "metadata": {},
   "outputs": [
    {
     "data": {
      "text/plain": [
       "DecisionTreeClassifier(class_weight=None, criterion='gini', max_depth=None,\n",
       "                       max_features=None, max_leaf_nodes=None,\n",
       "                       min_impurity_decrease=0.0, min_impurity_split=None,\n",
       "                       min_samples_leaf=1, min_samples_split=2,\n",
       "                       min_weight_fraction_leaf=0.0, presort=False,\n",
       "                       random_state=None, splitter='best')"
      ]
     },
     "execution_count": 468,
     "metadata": {},
     "output_type": "execute_result"
    }
   ],
   "source": [
    "from sklearn.tree import DecisionTreeClassifier\n",
    "dtree = DecisionTreeClassifier()\n",
    "dtree.fit(X_train,y_train)"
   ]
  },
  {
   "cell_type": "code",
   "execution_count": 469,
   "metadata": {},
   "outputs": [
    {
     "name": "stdout",
     "output_type": "stream",
     "text": [
      "              precision    recall  f1-score   support\n",
      "\n",
      "        high       0.99      0.99      0.99      2990\n",
      "         low       0.47      0.30      0.37      1515\n",
      "         mid       0.90      0.95      0.92     10495\n",
      "\n",
      "    accuracy                           0.89     15000\n",
      "   macro avg       0.79      0.75      0.76     15000\n",
      "weighted avg       0.88      0.89      0.88     15000\n",
      "\n"
     ]
    }
   ],
   "source": [
    "# Evaluating the decision tree \n",
    "predictions = dtree.predict(X_test)\n",
    "from sklearn.metrics import classification_report,confusion_matrix\n",
    "print(classification_report(y_test,predictions))"
   ]
  },
  {
   "cell_type": "code",
   "execution_count": 470,
   "metadata": {},
   "outputs": [
    {
     "name": "stdout",
     "output_type": "stream",
     "text": [
      "[[2975    0   15]\n",
      " [   0  461 1054]\n",
      " [  24  525 9946]]\n"
     ]
    }
   ],
   "source": [
    "print(confusion_matrix(y_test,predictions))"
   ]
  },
  {
   "cell_type": "markdown",
   "metadata": {},
   "source": [
    "## Random Forest Classifier"
   ]
  },
  {
   "cell_type": "code",
   "execution_count": 471,
   "metadata": {},
   "outputs": [
    {
     "data": {
      "text/plain": [
       "RandomForestClassifier(bootstrap=True, class_weight=None, criterion='gini',\n",
       "                       max_depth=None, max_features='auto', max_leaf_nodes=None,\n",
       "                       min_impurity_decrease=0.0, min_impurity_split=None,\n",
       "                       min_samples_leaf=1, min_samples_split=2,\n",
       "                       min_weight_fraction_leaf=0.0, n_estimators=100,\n",
       "                       n_jobs=None, oob_score=False, random_state=None,\n",
       "                       verbose=0, warm_start=False)"
      ]
     },
     "execution_count": 471,
     "metadata": {},
     "output_type": "execute_result"
    }
   ],
   "source": [
    "from sklearn.ensemble import RandomForestClassifier\n",
    "rfc = RandomForestClassifier(n_estimators=100)\n",
    "rfc.fit(X_train, y_train)"
   ]
  },
  {
   "cell_type": "code",
   "execution_count": 472,
   "metadata": {},
   "outputs": [
    {
     "name": "stdout",
     "output_type": "stream",
     "text": [
      "[[2975    0   15]\n",
      " [   0  461 1054]\n",
      " [  24  525 9946]]\n",
      "              precision    recall  f1-score   support\n",
      "\n",
      "        high       0.99      0.99      0.99      2990\n",
      "         low       0.47      0.30      0.37      1515\n",
      "         mid       0.90      0.95      0.92     10495\n",
      "\n",
      "    accuracy                           0.89     15000\n",
      "   macro avg       0.79      0.75      0.76     15000\n",
      "weighted avg       0.88      0.89      0.88     15000\n",
      "\n"
     ]
    }
   ],
   "source": [
    "# Random Forest Classifier predictions\n",
    "rfc_pred = rfc.predict(X_test)\n",
    "print(confusion_matrix(y_test,rfc_pred))\n",
    "print(classification_report(y_test,rfc_pred))"
   ]
  },
  {
   "cell_type": "markdown",
   "metadata": {},
   "source": [
    "## K-Nearest Neighbours "
   ]
  },
  {
   "cell_type": "code",
   "execution_count": 473,
   "metadata": {},
   "outputs": [
    {
     "data": {
      "text/plain": [
       "KNeighborsClassifier(algorithm='auto', leaf_size=30, metric='minkowski',\n",
       "                     metric_params=None, n_jobs=None, n_neighbors=3, p=2,\n",
       "                     weights='uniform')"
      ]
     },
     "execution_count": 473,
     "metadata": {},
     "output_type": "execute_result"
    }
   ],
   "source": [
    "from sklearn.neighbors import KNeighborsClassifier\n",
    "knn = KNeighborsClassifier(n_neighbors=3)\n",
    "knn.fit(X_train,y_train)"
   ]
  },
  {
   "cell_type": "code",
   "execution_count": 474,
   "metadata": {},
   "outputs": [],
   "source": [
    "pred = knn.predict(X_test)"
   ]
  },
  {
   "cell_type": "code",
   "execution_count": 475,
   "metadata": {},
   "outputs": [
    {
     "name": "stdout",
     "output_type": "stream",
     "text": [
      "[[2975    0   15]\n",
      " [   0  494 1021]\n",
      " [  24  512 9959]]\n"
     ]
    }
   ],
   "source": [
    "from sklearn.metrics import classification_report,confusion_matrix\n",
    "print(confusion_matrix(y_test,pred))"
   ]
  },
  {
   "cell_type": "code",
   "execution_count": 476,
   "metadata": {},
   "outputs": [
    {
     "name": "stdout",
     "output_type": "stream",
     "text": [
      "              precision    recall  f1-score   support\n",
      "\n",
      "        high       0.99      0.99      0.99      2990\n",
      "         low       0.49      0.33      0.39      1515\n",
      "         mid       0.91      0.95      0.93     10495\n",
      "\n",
      "    accuracy                           0.90     15000\n",
      "   macro avg       0.80      0.76      0.77     15000\n",
      "weighted avg       0.88      0.90      0.89     15000\n",
      "\n"
     ]
    }
   ],
   "source": [
    "print(classification_report(y_test,pred))"
   ]
  },
  {
   "cell_type": "code",
   "execution_count": 477,
   "metadata": {},
   "outputs": [],
   "source": [
    "# sample set\n",
    "from random import choice\n",
    "\n",
    "#t_1 = np.array([choice([0,1]) for i in range(10)]).reshape(1,-1)\n",
    "\n",
    "t_1 = np.array([1, 0, 0, 0, 0, 1, 0, 0, 0]).reshape(1,-1)\n",
    "\n",
    "pred = knn.predict(t_1)"
   ]
  },
  {
   "cell_type": "code",
   "execution_count": 478,
   "metadata": {},
   "outputs": [],
   "source": [
    "# What we will be returning to the front-end\n",
    "# if the value is low, send 45000 into the front-end\n",
    "# if the value is mid, send 60000 into the front-end\n",
    "# if the value is high, send 75000 into the front-end\n",
    "if pred[0] == 'low':\n",
    "    incomevalue = 45000\n",
    "elif pred[0] == 'mid':\n",
    "    incomevalue = 60000\n",
    "else:\n",
    "    incomevalue = 75000\n"
   ]
  },
  {
   "cell_type": "code",
   "execution_count": 479,
   "metadata": {},
   "outputs": [
    {
     "data": {
      "text/plain": [
       "45000"
      ]
     },
     "execution_count": 479,
     "metadata": {},
     "output_type": "execute_result"
    }
   ],
   "source": [
    "incomevalue"
   ]
  }
 ],
 "metadata": {
  "kernelspec": {
   "display_name": "Python 3",
   "language": "python",
   "name": "python3"
  },
  "language_info": {
   "codemirror_mode": {
    "name": "ipython",
    "version": 3
   },
   "file_extension": ".py",
   "mimetype": "text/x-python",
   "name": "python",
   "nbconvert_exporter": "python",
   "pygments_lexer": "ipython3",
   "version": "3.7.3"
  }
 },
 "nbformat": 4,
 "nbformat_minor": 2
}
